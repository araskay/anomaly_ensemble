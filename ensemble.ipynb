{
 "cells": [
  {
   "cell_type": "code",
   "execution_count": null,
   "id": "35184c25-cb2d-4c32-87c6-1952365fc9f0",
   "metadata": {},
   "outputs": [],
   "source": [
    "import numpy as np\n",
    "import pandas as pd\n",
    "import matplotlib.pyplot as plt\n",
    "import sklearn.neighbors as skn\n",
    "import sklearn.ensemble as ske\n",
    "import sklearn.metrics as skm\n",
    "import sklearn.covariance as skc\n",
    "import sklearn.svm as sks\n",
    "import ensemble\n",
    "from plotter import Plotter\n",
    "import scipy.stats as ss"
   ]
  },
  {
   "cell_type": "code",
   "execution_count": null,
   "id": "367a32f1-0e9b-40a0-bfbd-3bd6ecb727f0",
   "metadata": {},
   "outputs": [],
   "source": [
    "pd.options.display.float_format = '{:,.3f}'.format"
   ]
  },
  {
   "cell_type": "code",
   "execution_count": null,
   "id": "ff4fe2ae-0945-46e9-af90-de41ff06ac4f",
   "metadata": {},
   "outputs": [],
   "source": [
    "def get_lof_optimal_k(x, y, k_min=2, k_max=50, plot=True):\n",
    "    '''\n",
    "    find optimal neighborhood size for LOF\n",
    "    '''\n",
    "    n = []\n",
    "    a = []\n",
    "    for n_neighbors in range(k_min, k_max+1):\n",
    "        n.append(n_neighbors)\n",
    "        lof = skn.LocalOutlierFactor(n_neighbors=n_neighbors)\n",
    "        res = lof.fit(x)\n",
    "        auc = skm.roc_auc_score(\n",
    "            y_true=y,\n",
    "            y_score=np.abs(res.negative_outlier_factor_)\n",
    "        )\n",
    "        a.append(auc)\n",
    "        \n",
    "    if plot:\n",
    "        plt.plot(n,a)\n",
    "        plt.xlabel('k')\n",
    "        plt.ylabel('ROC AUC')\n",
    "        plt.title('Optimal neighborhood size for LOF')\n",
    "        plt.show()\n",
    "        \n",
    "    return n[np.argmax(a)]"
   ]
  },
  {
   "cell_type": "code",
   "execution_count": null,
   "id": "e606940e-90c5-4fe9-a509-26326b9146ae",
   "metadata": {},
   "outputs": [],
   "source": [
    "def get_mcd_optimal_contamination(\n",
    "    x, y, contamination_min=0.05, contamination_max=0.5, contamination_steps=0.01,\n",
    "    plot=True\n",
    "):\n",
    "    '''\n",
    "    find optimal contamination for mcd\n",
    "    '''\n",
    "    val = []\n",
    "    auc = []\n",
    "    for contamination in np.arange(contamination_min, contamination_max, contamination_steps):\n",
    "        mcd = skc.EllipticEnvelope(contamination=contamination)\n",
    "        res = mcd.fit(x)\n",
    "        a = skm.roc_auc_score(\n",
    "            y_true=y,\n",
    "            y_score=np.abs(res.score_samples(x))\n",
    "        )\n",
    "        auc.append(a)\n",
    "        val.append(contamination)\n",
    "        \n",
    "    if plot:\n",
    "        plt.plot(val,auc)\n",
    "        plt.xlabel('contamination')\n",
    "        plt.ylabel('ROC AUC')\n",
    "        plt.title('Optimal contamination for MCD')\n",
    "        plt.show()\n",
    "        \n",
    "    return val[np.argmax(auc)], auc[np.argmax(auc)]"
   ]
  },
  {
   "cell_type": "code",
   "execution_count": null,
   "id": "9dff72ff-6950-4d9a-8e3e-4148a5305740",
   "metadata": {},
   "outputs": [],
   "source": [
    "def get_iforest_optimal_contamination(\n",
    "    x, y, contamination_min=0.05, contamination_max=0.5, contamination_steps=0.01,\n",
    "    plot=True\n",
    "):\n",
    "    '''\n",
    "    find optimal contamination for mcd\n",
    "    '''\n",
    "    val = []\n",
    "    auc = []\n",
    "  \n",
    "    for contamination in np.arange(contamination_min, contamination_max, contamination_steps):\n",
    "        iforest = ske.IsolationForest(n_jobs=-1, contamination=contamination)\n",
    "        res = iforest.fit(x)\n",
    "        a = skm.roc_auc_score(\n",
    "            y_true=y,\n",
    "            y_score=np.abs(iforest.score_samples(x))\n",
    "        )\n",
    "        auc.append(a)\n",
    "        val.append(contamination)\n",
    "        \n",
    "    if plot:\n",
    "        plt.plot(val,auc)\n",
    "        plt.xlabel('contamination')\n",
    "        plt.ylabel('ROC AUC')\n",
    "        plt.title('Optimal contamination for Isolation forest')\n",
    "        plt.show()\n",
    "        \n",
    "    return val[np.argmax(auc)], auc[np.argmax(auc)]"
   ]
  },
  {
   "cell_type": "code",
   "execution_count": null,
   "id": "c4f0055d-8560-4692-add0-e7b401cf32f1",
   "metadata": {},
   "outputs": [],
   "source": [
    "# note: ROC AUC appears to fluctuate with changing the contamination factor\n",
    "# for MCD and Isolation Forest, but the fluctuations do not seem to follow\n",
    "# a meaningful trend. Therefore optimizing contamination for these\n",
    "# detectors may not be very meaningful and will be skipped for now\n",
    "# in the interest of making calculations faster"
   ]
  },
  {
   "cell_type": "code",
   "execution_count": null,
   "id": "8a51dd95-7ce1-4656-8895-998a6620523e",
   "metadata": {},
   "outputs": [],
   "source": [
    "def get_scores(df, varibales, label, plot=True):\n",
    "    # lof\n",
    "    k = get_lof_optimal_k(df[variables], df[label], plot=plot)\n",
    "    print('using k = {} as the optimal neighbourhood size for LOF'.format(k))\n",
    "    lof = skn.LocalOutlierFactor(n_neighbors=k)\n",
    "    res = lof.fit(df[variables])\n",
    "    df['lof'] = np.abs(res.negative_outlier_factor_)\n",
    "    \n",
    "    # isolation forest\n",
    "    iforest = ske.IsolationForest(n_jobs=-1)\n",
    "    res = iforest.fit(df[variables])\n",
    "    df['iforest'] = np.abs(res.score_samples(df[variables]))\n",
    "  \n",
    "    # mcd\n",
    "    mcd = skc.EllipticEnvelope(contamination=0.1)\n",
    "    res = mcd.fit(df[variables])\n",
    "    df['mcd'] = np.abs(res.score_samples(df[variables]))\n",
    "\n",
    "    # one class svd\n",
    "    ocsvm = sks.OneClassSVM()\n",
    "    res = ocsvm.fit(df[variables])\n",
    "    df['ocsvm'] = 1/res.score_samples(df[variables])\n",
    "    \n",
    "    return df"
   ]
  },
  {
   "cell_type": "code",
   "execution_count": null,
   "id": "4d580e9b-c9bc-41ad-868a-b0dd99b45768",
   "metadata": {},
   "outputs": [],
   "source": [
    "def aggregate(df, score_cols, normalization=ensemble.Normalize().std_norm, copy=True):\n",
    "    \n",
    "    if copy:\n",
    "        df = df.copy()\n",
    "        \n",
    "    for x in score_cols:            \n",
    "        df[x+'_norm'] = normalization(df[x])\n",
    "        \n",
    "    score_cols = [x+'_norm' for x in score_cols]\n",
    "               \n",
    "    # aggregation\n",
    "    df = ensemble.Ensemble().rank_avg_ensemble(df, score_cols)\n",
    "    df['rank_avg_score'] = 1/df['rank_avg']\n",
    "    df = ensemble.Ensemble().avg_ensemble(df, score_cols)\n",
    "    df = ensemble.Ensemble().maxpool_ensemble(df, score_cols)\n",
    "    #df = ensemble.Ensemble().thresholded_avg(df, score_cols)\n",
    "    df = ensemble.Ensemble().threshold_pruned_avg_ensemble(df, score_cols)\n",
    "    df = ensemble.Ensemble().top_k_pruned_avg_ensemble(df, score_cols)\n",
    "    \n",
    "    return df"
   ]
  },
  {
   "cell_type": "code",
   "execution_count": null,
   "id": "e21848c4-d7ed-433c-8f25-a84f6d2e27d0",
   "metadata": {},
   "outputs": [],
   "source": [
    "def calc_auc(df, cols, label, plot=True):\n",
    "    auc_dict = {}\n",
    "    for x in cols:\n",
    "        if plot:\n",
    "            auc_dict[x] = Plotter.plot_roc(df[label], df[x], title=x)\n",
    "        else:\n",
    "            auc_dict[x] = skm.roc_auc_score(df[label], df[x])\n",
    "    return auc_dict"
   ]
  },
  {
   "cell_type": "code",
   "execution_count": null,
   "id": "f69a0b36-1590-4951-bc21-2a04b6b78fad",
   "metadata": {},
   "outputs": [],
   "source": [
    "def data_reader(data_fname):\n",
    "    df = pd.read_csv(data_fname, header=None)\n",
    "    df.columns = ['x'+str(x) for x in df.columns]\n",
    "\n",
    "    df = df.rename(columns={'x{}'.format(len(df.columns)-1): 'y'})\n",
    "    df['y'] = df['y'].apply(lambda x: 0 if x=='n' else 1)\n",
    "    \n",
    "    variables = [x for x in df.columns if 'x' in x]\n",
    "    \n",
    "    return df, variables"
   ]
  },
  {
   "cell_type": "code",
   "execution_count": null,
   "id": "1e510de0-c2bd-4bda-8862-ed4529c201de",
   "metadata": {},
   "outputs": [],
   "source": [
    "# run"
   ]
  },
  {
   "cell_type": "code",
   "execution_count": null,
   "id": "f0e32f47-24bf-42eb-b04e-6b1b2c8cfae6",
   "metadata": {},
   "outputs": [],
   "source": [
    "from IPython.display import display\n",
    "\n",
    "auc_ = {}\n",
    "corrmat_ = {}\n",
    "corrmat_reord_ = {}\n",
    "\n",
    "for data_fname in [\n",
    "    'aloi-unsupervised-ad.csv',\n",
    "    'annthyroid-unsupervised-ad.csv',\n",
    "    'breast-cancer-unsupervised-ad.csv',\n",
    "    #'kdd99-unsupervised-ad.csv',\n",
    "    'letter-unsupervised-ad.csv',\n",
    "    'pen-global-unsupervised-ad.csv',\n",
    "    'pen-local-unsupervised-ad.csv',\n",
    "    'satellite-unsupervised-ad.csv',\n",
    "    'shuttle-unsupervised-ad.csv',\n",
    "    'speech-unsupervised-ad.csv'\n",
    "]:\n",
    "    print(data_fname)\n",
    "    \n",
    "    df, variables = data_reader(data_fname)\n",
    "    df = get_scores(df, variables, 'y', plot=False)\n",
    "\n",
    "    df[['lof', 'iforest', 'mcd', 'ocsvm']].hist(bins=50)\n",
    "    plt.show()\n",
    "\n",
    "    auc = calc_auc(df, ['lof', 'iforest', 'mcd', 'ocsvm'], 'y', plot=False)\n",
    "    scores_auc = pd.DataFrame({'auc': auc})\n",
    "    display(scores_auc)\n",
    "\n",
    "    norm_dict = {\n",
    "        'std_norm': ensemble.Normalize().std_norm,\n",
    "        'thresholded_std_norm': ensemble.Normalize().thresholded_std_norm,\n",
    "        'min_max_norm': ensemble.Normalize().minmax_norm\n",
    "    }\n",
    "\n",
    "    agg_cols = [\n",
    "        'avg', 'maxpool', 'rank_avg_score', #'thresholded_avg',\n",
    "        'threshold_pruned_avg', 'top_k_pruned_avg'\n",
    "    ]\n",
    "\n",
    "    res = pd.DataFrame()\n",
    "    \n",
    "    corrmat_[data_fname] = {}\n",
    "    corrmat_reord_[data_fname] = {}\n",
    "\n",
    "    for norm in norm_dict.keys():\n",
    "        print(norm)\n",
    "        df_agg = aggregate(\n",
    "            df, ['lof', 'iforest', 'mcd', 'ocsvm'],\n",
    "            normalization = norm_dict[norm]\n",
    "        )\n",
    "\n",
    "        corrmat, corrmat_reord = Plotter.clustered_hmap(df_agg, agg_cols)\n",
    "        \n",
    "        corrmat_[data_fname][norm] = corrmat\n",
    "        corrmat_reord_[data_fname][norm] = corrmat_reord\n",
    "        \n",
    "        auc = calc_auc(df_agg, agg_cols, 'y', plot=False)\n",
    "\n",
    "        if len(res):\n",
    "            res = pd.concat([res, pd.DataFrame({norm: auc})], axis=1)\n",
    "        else:\n",
    "            res = pd.DataFrame({norm: auc})\n",
    "    display(res)\n",
    "    \n",
    "    auc_[data_fname] = res\n",
    "    \n",
    "    \n",
    "    print('\\n------------------------\\n')"
   ]
  },
  {
   "cell_type": "code",
   "execution_count": null,
   "id": "3fe7d553-c0d8-4977-9f17-fb44a97f245c",
   "metadata": {},
   "outputs": [],
   "source": [
    "def fisher_transform(r):\n",
    "    return np.arctanh(r)\n",
    "\n",
    "def inv_fisher_transfrom(z):\n",
    "    return np.tanh(z)"
   ]
  },
  {
   "cell_type": "code",
   "execution_count": null,
   "id": "81e3972a-0c8c-4e6b-92f3-c6ed12beeef5",
   "metadata": {},
   "outputs": [],
   "source": [
    "m = []\n",
    "for data_set in corrmat_:\n",
    "    for normalization in corrmat_[data_set]:\n",
    "        m.append(corrmat_[data_set][normalization])"
   ]
  },
  {
   "cell_type": "code",
   "execution_count": null,
   "id": "3a5ca149-46a3-40d3-ad65-8c87879c08d3",
   "metadata": {},
   "outputs": [],
   "source": [
    "cols = m[0].columns\n",
    "ind = m[0].index"
   ]
  },
  {
   "cell_type": "code",
   "execution_count": null,
   "id": "7f3d0742-b1bc-43d6-84b0-202ccb696aaf",
   "metadata": {},
   "outputs": [],
   "source": [
    "m = np.array(m)"
   ]
  },
  {
   "cell_type": "code",
   "execution_count": null,
   "id": "16fe4fdf-0a52-42aa-a880-80d09b53e532",
   "metadata": {},
   "outputs": [],
   "source": [
    "res = ss.ttest_1samp(fisher_transform(m), 0, axis=0)"
   ]
  },
  {
   "cell_type": "code",
   "execution_count": null,
   "id": "9c277e14-effb-44d3-9bf7-4705ea621bb6",
   "metadata": {},
   "outputs": [],
   "source": [
    "res.pvalue"
   ]
  },
  {
   "cell_type": "code",
   "execution_count": null,
   "id": "cf402a24-f046-4406-b4d6-c3ef14deb827",
   "metadata": {},
   "outputs": [],
   "source": [
    "r = inv_fisher_transfrom(np.mean(fisher_transform(m), axis=0))\n",
    "Plotter.cluster_mat(pd.DataFrame(r, index=ind, columns=cols))"
   ]
  },
  {
   "cell_type": "code",
   "execution_count": null,
   "id": "ec90db62-8bb6-4c9d-85ad-67e7f99f5025",
   "metadata": {},
   "outputs": [],
   "source": []
  }
 ],
 "metadata": {
  "kernelspec": {
   "display_name": "anomaly_ensemble",
   "language": "python",
   "name": "anomaly_ensemble"
  },
  "language_info": {
   "codemirror_mode": {
    "name": "ipython",
    "version": 3
   },
   "file_extension": ".py",
   "mimetype": "text/x-python",
   "name": "python",
   "nbconvert_exporter": "python",
   "pygments_lexer": "ipython3",
   "version": "3.10.6"
  }
 },
 "nbformat": 4,
 "nbformat_minor": 5
}
