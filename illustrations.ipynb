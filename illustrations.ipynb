{
 "cells": [
  {
   "cell_type": "code",
   "execution_count": null,
   "id": "d7584913-3c68-41ed-8b8e-2a5f1161e273",
   "metadata": {},
   "outputs": [],
   "source": [
    "import numpy as np\n",
    "import pandas as pd\n",
    "import matplotlib.pyplot as plt\n",
    "import sklearn.neighbors as skn\n",
    "import sklearn.ensemble as ske\n",
    "import sklearn.metrics as skm\n",
    "import sklearn.covariance as skc\n",
    "import sklearn.svm as sks\n",
    "import ensemble\n",
    "from plotter import Plotter\n",
    "import seaborn as sns"
   ]
  },
  {
   "cell_type": "code",
   "execution_count": null,
   "id": "85b08e8a-aad8-443e-9237-270c3af2dcd7",
   "metadata": {},
   "outputs": [],
   "source": [
    "n = 1000\n",
    "df = pd.DataFrame(\n",
    "    {\n",
    "        'x': np.random.normal(size=n),\n",
    "        'label': False\n",
    "    }\n",
    ")\n",
    "\n",
    "anom = [5, 10, 20, 50]\n",
    "\n",
    "anom_idx = np.random.choice(range(len(df)), size = len(anom), replace = False)\n",
    "\n",
    "for i in range(len(anom)):\n",
    "    df.iloc[anom_idx[i], df.columns.get_loc('x')] = anom[i]\n",
    "    df.iloc[anom_idx[i], df.columns.get_loc('label')] = True\n",
    "    \n",
    "lof = skn.LocalOutlierFactor()\n",
    "res = lof.fit(df[['x']])\n",
    "df['score'] = np.abs(res.negative_outlier_factor_)"
   ]
  },
  {
   "cell_type": "code",
   "execution_count": null,
   "id": "9ea2817a-b1dd-41ef-b7e6-7c3388ef6d70",
   "metadata": {},
   "outputs": [],
   "source": [
    "df['score_std_norm'] = ensemble.Normalize().std_norm(df['score'])\n",
    "df['score_minmax_norm'] = ensemble.Normalize().minmax_norm(df['score'])"
   ]
  },
  {
   "cell_type": "code",
   "execution_count": null,
   "id": "34f23a8d-9a45-4cac-9fa4-2b22f41b63f7",
   "metadata": {},
   "outputs": [],
   "source": [
    "df.sort_values(by='score', ascending=False).head(10)"
   ]
  },
  {
   "cell_type": "code",
   "execution_count": null,
   "id": "c0dc2aaa-31dd-4837-b484-c2e8ec3b3dab",
   "metadata": {},
   "outputs": [],
   "source": [
    "plt.figure(figsize=(7,3))\n",
    "sns.boxenplot(data = df, x = 'x')\n",
    "plt.title('Test data - box plot')\n",
    "plt.show()"
   ]
  },
  {
   "cell_type": "code",
   "execution_count": null,
   "id": "0f49b477-992c-405c-82ad-6679e6a82bfa",
   "metadata": {},
   "outputs": [],
   "source": [
    "df['bin_score'] = np.random.choice([0,1], size=len(df), p = [0.9, 0.1])"
   ]
  },
  {
   "cell_type": "code",
   "execution_count": null,
   "id": "abbace4c-5751-4a7b-b706-65e2ac036bd0",
   "metadata": {
    "tags": []
   },
   "outputs": [],
   "source": [
    "f, (ax1, ax2) = plt.subplots(1,2, sharey=True)\n",
    "ax1.hist(np.log(df['score']), bins=20)\n",
    "ax1.set_xlabel('log(score)')\n",
    "ax1.set_ylabel('count')\n",
    "ax1.set_title('Continuous scores')\n",
    "\n",
    "ax2.bar(\n",
    "    df['bin_score'].astype(str).value_counts().index,\n",
    "    df['bin_score'].value_counts(),\n",
    "    width=0.1\n",
    ")\n",
    "ax2.set_xlabel('value')\n",
    "#ax2.set_ylabel('count')\n",
    "ax2.set_title('Binary scores')\n",
    "\n",
    "plt.show()"
   ]
  },
  {
   "cell_type": "code",
   "execution_count": null,
   "id": "c32e93a0-51d9-4ce6-b80d-93fa15125d52",
   "metadata": {
    "tags": []
   },
   "outputs": [],
   "source": [
    "df['score'].describe()"
   ]
  },
  {
   "cell_type": "code",
   "execution_count": null,
   "id": "976eabe4-7e13-47e2-9a5b-9652e73aaaef",
   "metadata": {},
   "outputs": [],
   "source": [
    "df = ensemble.Ensemble().avg_ensemble(\n",
    "    df, ['score_std_norm', 'bin_score'], ensemble_score='agg_with_std_norm'\n",
    ")\n",
    "\n",
    "df = ensemble.Ensemble().avg_ensemble(\n",
    "    df, ['score_minmax_norm', 'bin_score'], ensemble_score='agg_with_minmax_norm'\n",
    ")"
   ]
  },
  {
   "cell_type": "code",
   "execution_count": null,
   "id": "ad23786a-c310-4654-ad9c-a5cca3a49cbd",
   "metadata": {},
   "outputs": [],
   "source": [
    "df.sort_values(by='score', ascending=False).head(10)"
   ]
  },
  {
   "cell_type": "code",
   "execution_count": null,
   "id": "56a040f7-486f-4061-950c-11f0f1846c02",
   "metadata": {
    "tags": []
   },
   "outputs": [],
   "source": [
    "Plotter.clustered_hmap(\n",
    "    df,\n",
    "    ['score', 'bin_score', 'agg_with_std_norm', 'agg_with_minmax_norm']\n",
    ")"
   ]
  },
  {
   "cell_type": "code",
   "execution_count": null,
   "id": "91326375-fbaa-4661-890b-efa7b9652c00",
   "metadata": {},
   "outputs": [],
   "source": []
  },
  {
   "cell_type": "code",
   "execution_count": null,
   "id": "dbd69710-c989-4eef-b53f-348417ae51c2",
   "metadata": {},
   "outputs": [],
   "source": []
  },
  {
   "cell_type": "code",
   "execution_count": null,
   "id": "408caa96-397b-44bc-96cd-8fb42cede256",
   "metadata": {},
   "outputs": [],
   "source": []
  }
 ],
 "metadata": {
  "kernelspec": {
   "display_name": "anomaly_ensemble",
   "language": "python",
   "name": "anomaly_ensemble"
  },
  "language_info": {
   "codemirror_mode": {
    "name": "ipython",
    "version": 3
   },
   "file_extension": ".py",
   "mimetype": "text/x-python",
   "name": "python",
   "nbconvert_exporter": "python",
   "pygments_lexer": "ipython3",
   "version": "3.10.6"
  }
 },
 "nbformat": 4,
 "nbformat_minor": 5
}
